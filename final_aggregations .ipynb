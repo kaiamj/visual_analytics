{
 "cells": [
  {
   "cell_type": "markdown",
   "id": "dc8e45b2",
   "metadata": {},
   "source": [
    "# Who\n",
    "## filter \n",
    "### Age group, gender, income\n",
    "#### Categories (Health, Education, Religion)\n",
    "#### Donation and volunteer percentage of people \n"
   ]
  },
  {
   "cell_type": "code",
   "execution_count": 1,
   "id": "d62b9ccc",
   "metadata": {},
   "outputs": [],
   "source": [
    "import pandas as pd "
   ]
  },
  {
   "cell_type": "code",
   "execution_count": 54,
   "id": "fdb1fe59",
   "metadata": {},
   "outputs": [],
   "source": [
    "df = pd.read_csv(\"Survey-Canada-119-updated-1-csv.csv\")"
   ]
  },
  {
   "cell_type": "code",
   "execution_count": 55,
   "id": "83b7ccfb",
   "metadata": {
    "scrolled": true
   },
   "outputs": [
    {
     "data": {
      "text/html": [
       "<div>\n",
       "<style scoped>\n",
       "    .dataframe tbody tr th:only-of-type {\n",
       "        vertical-align: middle;\n",
       "    }\n",
       "\n",
       "    .dataframe tbody tr th {\n",
       "        vertical-align: top;\n",
       "    }\n",
       "\n",
       "    .dataframe thead th {\n",
       "        text-align: right;\n",
       "    }\n",
       "</style>\n",
       "<table border=\"1\" class=\"dataframe\">\n",
       "  <thead>\n",
       "    <tr style=\"text-align: right;\">\n",
       "      <th></th>\n",
       "      <th>Unnamed: 0</th>\n",
       "      <th>Age_group</th>\n",
       "      <th>Gender</th>\n",
       "      <th>Martial_status</th>\n",
       "      <th>Household_size</th>\n",
       "      <th>Children</th>\n",
       "      <th>Living_arrangement</th>\n",
       "      <th>Three_generation_or_more</th>\n",
       "      <th>Province</th>\n",
       "      <th>Volunteer</th>\n",
       "      <th>...</th>\n",
       "      <th>Reasons_giving_Personally_affected</th>\n",
       "      <th>Reasons_giving_Tax_credit</th>\n",
       "      <th>Reasons_giving_Religious_reasons</th>\n",
       "      <th>Reasons_giving_Spiritual</th>\n",
       "      <th>Reasons_giving_Cause</th>\n",
       "      <th>Reasons_giving_Compassion</th>\n",
       "      <th>Reasons_giving_Community_contribution</th>\n",
       "      <th>Reasons_giving_asked_by_someone_known</th>\n",
       "      <th>Informal_volunteering_Canadian</th>\n",
       "      <th>Informal_volunteering_International</th>\n",
       "    </tr>\n",
       "  </thead>\n",
       "  <tbody>\n",
       "    <tr>\n",
       "      <th>0</th>\n",
       "      <td>0</td>\n",
       "      <td>75+</td>\n",
       "      <td>Male</td>\n",
       "      <td>Married</td>\n",
       "      <td>2</td>\n",
       "      <td>no</td>\n",
       "      <td>Living with more than one parent</td>\n",
       "      <td>no</td>\n",
       "      <td>Ontario</td>\n",
       "      <td>no</td>\n",
       "      <td>...</td>\n",
       "      <td>1</td>\n",
       "      <td>2</td>\n",
       "      <td>2</td>\n",
       "      <td>2</td>\n",
       "      <td>1</td>\n",
       "      <td>1</td>\n",
       "      <td>1</td>\n",
       "      <td>1</td>\n",
       "      <td>2</td>\n",
       "      <td>2</td>\n",
       "    </tr>\n",
       "    <tr>\n",
       "      <th>1</th>\n",
       "      <td>1</td>\n",
       "      <td>75+</td>\n",
       "      <td>Male</td>\n",
       "      <td>Married</td>\n",
       "      <td>1</td>\n",
       "      <td>no</td>\n",
       "      <td>Living with more than one parent</td>\n",
       "      <td>no</td>\n",
       "      <td>Ontario</td>\n",
       "      <td>yes</td>\n",
       "      <td>...</td>\n",
       "      <td>1</td>\n",
       "      <td>1</td>\n",
       "      <td>2</td>\n",
       "      <td>1</td>\n",
       "      <td>1</td>\n",
       "      <td>1</td>\n",
       "      <td>2</td>\n",
       "      <td>2</td>\n",
       "      <td>1</td>\n",
       "      <td>1</td>\n",
       "    </tr>\n",
       "    <tr>\n",
       "      <th>2</th>\n",
       "      <td>2</td>\n",
       "      <td>75+</td>\n",
       "      <td>Female</td>\n",
       "      <td>Married</td>\n",
       "      <td>2</td>\n",
       "      <td>no</td>\n",
       "      <td>Living with more than one parent</td>\n",
       "      <td>no</td>\n",
       "      <td>Ontario</td>\n",
       "      <td>yes</td>\n",
       "      <td>...</td>\n",
       "      <td>1</td>\n",
       "      <td>2</td>\n",
       "      <td>2</td>\n",
       "      <td>2</td>\n",
       "      <td>2</td>\n",
       "      <td>1</td>\n",
       "      <td>2</td>\n",
       "      <td>2</td>\n",
       "      <td>1</td>\n",
       "      <td>1</td>\n",
       "    </tr>\n",
       "    <tr>\n",
       "      <th>3</th>\n",
       "      <td>3</td>\n",
       "      <td>75+</td>\n",
       "      <td>Male</td>\n",
       "      <td>Married</td>\n",
       "      <td>2</td>\n",
       "      <td>no</td>\n",
       "      <td>Living with more than one parent</td>\n",
       "      <td>no</td>\n",
       "      <td>New Brunswick</td>\n",
       "      <td>no</td>\n",
       "      <td>...</td>\n",
       "      <td>1</td>\n",
       "      <td>2</td>\n",
       "      <td>2</td>\n",
       "      <td>2</td>\n",
       "      <td>1</td>\n",
       "      <td>1</td>\n",
       "      <td>1</td>\n",
       "      <td>1</td>\n",
       "      <td>1</td>\n",
       "      <td>1</td>\n",
       "    </tr>\n",
       "    <tr>\n",
       "      <th>4</th>\n",
       "      <td>4</td>\n",
       "      <td>75+</td>\n",
       "      <td>Male</td>\n",
       "      <td>Married</td>\n",
       "      <td>2</td>\n",
       "      <td>no</td>\n",
       "      <td>Living with more than one parent</td>\n",
       "      <td>no</td>\n",
       "      <td>British Columbia</td>\n",
       "      <td>yes</td>\n",
       "      <td>...</td>\n",
       "      <td>1</td>\n",
       "      <td>1</td>\n",
       "      <td>2</td>\n",
       "      <td>2</td>\n",
       "      <td>1</td>\n",
       "      <td>2</td>\n",
       "      <td>1</td>\n",
       "      <td>2</td>\n",
       "      <td>1</td>\n",
       "      <td>1</td>\n",
       "    </tr>\n",
       "    <tr>\n",
       "      <th>...</th>\n",
       "      <td>...</td>\n",
       "      <td>...</td>\n",
       "      <td>...</td>\n",
       "      <td>...</td>\n",
       "      <td>...</td>\n",
       "      <td>...</td>\n",
       "      <td>...</td>\n",
       "      <td>...</td>\n",
       "      <td>...</td>\n",
       "      <td>...</td>\n",
       "      <td>...</td>\n",
       "      <td>...</td>\n",
       "      <td>...</td>\n",
       "      <td>...</td>\n",
       "      <td>...</td>\n",
       "      <td>...</td>\n",
       "      <td>...</td>\n",
       "      <td>...</td>\n",
       "      <td>...</td>\n",
       "      <td>...</td>\n",
       "      <td>...</td>\n",
       "    </tr>\n",
       "    <tr>\n",
       "      <th>16144</th>\n",
       "      <td>16144</td>\n",
       "      <td>15-24</td>\n",
       "      <td>Female</td>\n",
       "      <td>Single, never married</td>\n",
       "      <td>2</td>\n",
       "      <td>no</td>\n",
       "      <td>Living with more than one parent</td>\n",
       "      <td>no</td>\n",
       "      <td>Ontario</td>\n",
       "      <td>yes</td>\n",
       "      <td>...</td>\n",
       "      <td>6</td>\n",
       "      <td>6</td>\n",
       "      <td>6</td>\n",
       "      <td>6</td>\n",
       "      <td>6</td>\n",
       "      <td>6</td>\n",
       "      <td>6</td>\n",
       "      <td>6</td>\n",
       "      <td>1</td>\n",
       "      <td>1</td>\n",
       "    </tr>\n",
       "    <tr>\n",
       "      <th>16145</th>\n",
       "      <td>16145</td>\n",
       "      <td>15-24</td>\n",
       "      <td>Male</td>\n",
       "      <td>Single, never married</td>\n",
       "      <td>4</td>\n",
       "      <td>no</td>\n",
       "      <td>Living with more than one parent</td>\n",
       "      <td>no</td>\n",
       "      <td>British Columbia</td>\n",
       "      <td>no</td>\n",
       "      <td>...</td>\n",
       "      <td>6</td>\n",
       "      <td>6</td>\n",
       "      <td>6</td>\n",
       "      <td>6</td>\n",
       "      <td>6</td>\n",
       "      <td>6</td>\n",
       "      <td>6</td>\n",
       "      <td>6</td>\n",
       "      <td>1</td>\n",
       "      <td>1</td>\n",
       "    </tr>\n",
       "    <tr>\n",
       "      <th>16146</th>\n",
       "      <td>16146</td>\n",
       "      <td>15-24</td>\n",
       "      <td>Female</td>\n",
       "      <td>Single, never married</td>\n",
       "      <td>5</td>\n",
       "      <td>no</td>\n",
       "      <td>Living with more than one parent</td>\n",
       "      <td>no</td>\n",
       "      <td>Quebec</td>\n",
       "      <td>yes</td>\n",
       "      <td>...</td>\n",
       "      <td>6</td>\n",
       "      <td>6</td>\n",
       "      <td>6</td>\n",
       "      <td>6</td>\n",
       "      <td>6</td>\n",
       "      <td>6</td>\n",
       "      <td>6</td>\n",
       "      <td>6</td>\n",
       "      <td>1</td>\n",
       "      <td>1</td>\n",
       "    </tr>\n",
       "    <tr>\n",
       "      <th>16147</th>\n",
       "      <td>16147</td>\n",
       "      <td>15-24</td>\n",
       "      <td>Female</td>\n",
       "      <td>Single, never married</td>\n",
       "      <td>3</td>\n",
       "      <td>no</td>\n",
       "      <td>Living with more than one parent</td>\n",
       "      <td>no</td>\n",
       "      <td>Newfoundland and Labrador</td>\n",
       "      <td>no</td>\n",
       "      <td>...</td>\n",
       "      <td>6</td>\n",
       "      <td>6</td>\n",
       "      <td>6</td>\n",
       "      <td>6</td>\n",
       "      <td>6</td>\n",
       "      <td>6</td>\n",
       "      <td>6</td>\n",
       "      <td>6</td>\n",
       "      <td>2</td>\n",
       "      <td>2</td>\n",
       "    </tr>\n",
       "    <tr>\n",
       "      <th>16148</th>\n",
       "      <td>16148</td>\n",
       "      <td>15-24</td>\n",
       "      <td>Female</td>\n",
       "      <td>Single, never married</td>\n",
       "      <td>4</td>\n",
       "      <td>no</td>\n",
       "      <td>Living with more than one parent</td>\n",
       "      <td>no</td>\n",
       "      <td>Manitoba</td>\n",
       "      <td>yes</td>\n",
       "      <td>...</td>\n",
       "      <td>6</td>\n",
       "      <td>6</td>\n",
       "      <td>6</td>\n",
       "      <td>6</td>\n",
       "      <td>6</td>\n",
       "      <td>6</td>\n",
       "      <td>6</td>\n",
       "      <td>6</td>\n",
       "      <td>2</td>\n",
       "      <td>2</td>\n",
       "    </tr>\n",
       "  </tbody>\n",
       "</table>\n",
       "<p>16149 rows × 131 columns</p>\n",
       "</div>"
      ],
      "text/plain": [
       "       Unnamed: 0 Age_group  Gender         Martial_status Household_size  \\\n",
       "0               0       75+    Male                Married              2   \n",
       "1               1       75+    Male                Married              1   \n",
       "2               2       75+  Female                Married              2   \n",
       "3               3       75+    Male                Married              2   \n",
       "4               4       75+    Male                Married              2   \n",
       "...           ...       ...     ...                    ...            ...   \n",
       "16144       16144     15-24  Female  Single, never married              2   \n",
       "16145       16145     15-24    Male  Single, never married              4   \n",
       "16146       16146     15-24  Female  Single, never married              5   \n",
       "16147       16147     15-24  Female  Single, never married              3   \n",
       "16148       16148     15-24  Female  Single, never married              4   \n",
       "\n",
       "      Children                Living_arrangement Three_generation_or_more  \\\n",
       "0           no  Living with more than one parent                       no   \n",
       "1           no  Living with more than one parent                       no   \n",
       "2           no  Living with more than one parent                       no   \n",
       "3           no  Living with more than one parent                       no   \n",
       "4           no  Living with more than one parent                       no   \n",
       "...        ...                               ...                      ...   \n",
       "16144       no  Living with more than one parent                       no   \n",
       "16145       no  Living with more than one parent                       no   \n",
       "16146       no  Living with more than one parent                       no   \n",
       "16147       no  Living with more than one parent                       no   \n",
       "16148       no  Living with more than one parent                       no   \n",
       "\n",
       "                        Province Volunteer  ...  \\\n",
       "0                        Ontario        no  ...   \n",
       "1                        Ontario       yes  ...   \n",
       "2                        Ontario       yes  ...   \n",
       "3                  New Brunswick        no  ...   \n",
       "4               British Columbia       yes  ...   \n",
       "...                          ...       ...  ...   \n",
       "16144                    Ontario       yes  ...   \n",
       "16145           British Columbia        no  ...   \n",
       "16146                     Quebec       yes  ...   \n",
       "16147  Newfoundland and Labrador        no  ...   \n",
       "16148                   Manitoba       yes  ...   \n",
       "\n",
       "      Reasons_giving_Personally_affected Reasons_giving_Tax_credit  \\\n",
       "0                                      1                         2   \n",
       "1                                      1                         1   \n",
       "2                                      1                         2   \n",
       "3                                      1                         2   \n",
       "4                                      1                         1   \n",
       "...                                  ...                       ...   \n",
       "16144                                  6                         6   \n",
       "16145                                  6                         6   \n",
       "16146                                  6                         6   \n",
       "16147                                  6                         6   \n",
       "16148                                  6                         6   \n",
       "\n",
       "       Reasons_giving_Religious_reasons Reasons_giving_Spiritual  \\\n",
       "0                                     2                        2   \n",
       "1                                     2                        1   \n",
       "2                                     2                        2   \n",
       "3                                     2                        2   \n",
       "4                                     2                        2   \n",
       "...                                 ...                      ...   \n",
       "16144                                 6                        6   \n",
       "16145                                 6                        6   \n",
       "16146                                 6                        6   \n",
       "16147                                 6                        6   \n",
       "16148                                 6                        6   \n",
       "\n",
       "       Reasons_giving_Cause  Reasons_giving_Compassion  \\\n",
       "0                         1                          1   \n",
       "1                         1                          1   \n",
       "2                         2                          1   \n",
       "3                         1                          1   \n",
       "4                         1                          2   \n",
       "...                     ...                        ...   \n",
       "16144                     6                          6   \n",
       "16145                     6                          6   \n",
       "16146                     6                          6   \n",
       "16147                     6                          6   \n",
       "16148                     6                          6   \n",
       "\n",
       "       Reasons_giving_Community_contribution  \\\n",
       "0                                          1   \n",
       "1                                          2   \n",
       "2                                          2   \n",
       "3                                          1   \n",
       "4                                          1   \n",
       "...                                      ...   \n",
       "16144                                      6   \n",
       "16145                                      6   \n",
       "16146                                      6   \n",
       "16147                                      6   \n",
       "16148                                      6   \n",
       "\n",
       "       Reasons_giving_asked_by_someone_known  Informal_volunteering_Canadian  \\\n",
       "0                                          1                               2   \n",
       "1                                          2                               1   \n",
       "2                                          2                               1   \n",
       "3                                          1                               1   \n",
       "4                                          2                               1   \n",
       "...                                      ...                             ...   \n",
       "16144                                      6                               1   \n",
       "16145                                      6                               1   \n",
       "16146                                      6                               1   \n",
       "16147                                      6                               2   \n",
       "16148                                      6                               2   \n",
       "\n",
       "       Informal_volunteering_International  \n",
       "0                                        2  \n",
       "1                                        1  \n",
       "2                                        1  \n",
       "3                                        1  \n",
       "4                                        1  \n",
       "...                                    ...  \n",
       "16144                                    1  \n",
       "16145                                    1  \n",
       "16146                                    1  \n",
       "16147                                    2  \n",
       "16148                                    2  \n",
       "\n",
       "[16149 rows x 131 columns]"
      ]
     },
     "execution_count": 55,
     "metadata": {},
     "output_type": "execute_result"
    }
   ],
   "source": [
    "df"
   ]
  },
  {
   "cell_type": "markdown",
   "id": "3c67ac0b",
   "metadata": {},
   "source": []
  },
  {
   "cell_type": "code",
   "execution_count": 137,
   "id": "10b9f8b1",
   "metadata": {},
   "outputs": [],
   "source": [
    "def percentage_people(df):\n",
    "    try:\n",
    "        df1 = df[(df[df.columns[2]] >= 1) & (df[df.columns[1]]>=1)]\n",
    "    except:\n",
    "        df1 = df[(df[df.columns[2]] =='yes') & (df[df.columns[1]] ==1)]\n",
    "        \n",
    "    total = len(df1)\n",
    "    print(total)\n",
    "    \n",
    "    for i in df1[df1.columns[0]].unique():\n",
    "        df2 = df1[df1[df1.columns[0]] ==i]\n",
    "        t = len(df2)\n",
    "#         #print(df1)\n",
    "#     #category where value is greater than 1 divided by total len of df\n",
    "#         try:\n",
    "#              #for donation\n",
    "#             t = ((df1[df1.columns[2]] >= 1) & (df1[df1.columns[1]]>=1)).sum()\n",
    "#         except:\n",
    "#             t = ((df1[df1.columns[2]] =='yes') & (df1[df1.columns[1]]>=1)).sum() #for volunteer\n",
    "#         #print(t)\n",
    "        \n",
    "        per = round(t*100/total,2)\n",
    "        print(' for value ',i, ' percentage of people are ',per, '%')\n",
    "    \n",
    "#gender male\n",
    "\n",
    "    "
   ]
  },
  {
   "cell_type": "code",
   "execution_count": 82,
   "id": "c8438545",
   "metadata": {},
   "outputs": [
    {
     "data": {
      "text/plain": [
       "4710"
      ]
     },
     "execution_count": 82,
     "metadata": {},
     "output_type": "execute_result"
    }
   ],
   "source": [
    "((df['donated'] >= 1) & (df['Number_of_donations_Category_religion']>=1)).sum()"
   ]
  },
  {
   "cell_type": "code",
   "execution_count": 80,
   "id": "4e2d19aa",
   "metadata": {},
   "outputs": [
    {
     "data": {
      "text/plain": [
       "0        False\n",
       "1         True\n",
       "2        False\n",
       "3         True\n",
       "4        False\n",
       "         ...  \n",
       "16144    False\n",
       "16145    False\n",
       "16146    False\n",
       "16147    False\n",
       "16148    False\n",
       "Name: Number_of_donations_Category_religion, Length: 16149, dtype: bool"
      ]
     },
     "execution_count": 80,
     "metadata": {},
     "output_type": "execute_result"
    }
   ],
   "source": [
    "df['Number_of_donations_Category_religion']>=1"
   ]
  },
  {
   "cell_type": "markdown",
   "id": "d2128736",
   "metadata": {},
   "source": [
    "## Age group (age_group, category , donation=y/n)"
   ]
  },
  {
   "cell_type": "code",
   "execution_count": 111,
   "id": "37ed8373",
   "metadata": {},
   "outputs": [
    {
     "name": "stdout",
     "output_type": "stream",
     "text": [
      "4710\n",
      " for value  75+  percentage of people are  17.83 %\n",
      " for value  65-74  percentage of people are  23.14 %\n",
      " for value  55-64  percentage of people are  21.97 %\n",
      " for value  45-54  percentage of people are  13.82 %\n",
      " for value  35-44  percentage of people are  13.12 %\n",
      " for value  25-34  percentage of people are  7.66 %\n",
      " for value  15-24  percentage of people are  2.44 %\n"
     ]
    }
   ],
   "source": [
    "percentage_people(df[['Age_group','Number_of_donations_Category_religion','donated']])"
   ]
  },
  {
   "cell_type": "code",
   "execution_count": 112,
   "id": "92feb35c",
   "metadata": {},
   "outputs": [
    {
     "name": "stdout",
     "output_type": "stream",
     "text": [
      "1604\n",
      " for value  75+  percentage of people are  11.22 %\n",
      " for value  65-74  percentage of people are  22.13 %\n",
      " for value  55-64  percentage of people are  22.94 %\n",
      " for value  45-54  percentage of people are  15.27 %\n",
      " for value  35-44  percentage of people are  14.84 %\n",
      " for value  25-34  percentage of people are  11.03 %\n",
      " for value  15-24  percentage of people are  2.56 %\n"
     ]
    }
   ],
   "source": [
    "percentage_people(df[['Age_group','Number_of_donations_Category_environment','donated']])"
   ]
  },
  {
   "cell_type": "code",
   "execution_count": 113,
   "id": "f2314196",
   "metadata": {},
   "outputs": [
    {
     "name": "stdout",
     "output_type": "stream",
     "text": [
      "2586\n",
      " for value  75+  percentage of people are  8.7 %\n",
      " for value  65-74  percentage of people are  19.57 %\n",
      " for value  55-64  percentage of people are  23.01 %\n",
      " for value  45-54  percentage of people are  17.79 %\n",
      " for value  35-44  percentage of people are  19.68 %\n",
      " for value  25-34  percentage of people are  8.82 %\n",
      " for value  15-24  percentage of people are  2.44 %\n"
     ]
    }
   ],
   "source": [
    "percentage_people(df[['Age_group','Number_of_donations_Category_education_and_research','donated']])"
   ]
  },
  {
   "cell_type": "markdown",
   "id": "636c0e6c",
   "metadata": {},
   "source": [
    "# gender (gender, category , donation=y/n)"
   ]
  },
  {
   "cell_type": "code",
   "execution_count": null,
   "id": "1a61dc35",
   "metadata": {},
   "outputs": [],
   "source": []
  },
  {
   "cell_type": "code",
   "execution_count": 114,
   "id": "536d4c34",
   "metadata": {
    "scrolled": true
   },
   "outputs": [
    {
     "name": "stdout",
     "output_type": "stream",
     "text": [
      "4710\n",
      " for value  Male  percentage of people are  40.3 %\n",
      " for value  Female  percentage of people are  59.7 %\n"
     ]
    }
   ],
   "source": [
    "percentage_people(df[['Gender','Number_of_donations_Category_religion','donated']])"
   ]
  },
  {
   "cell_type": "code",
   "execution_count": 115,
   "id": "6dc56c60",
   "metadata": {
    "scrolled": true
   },
   "outputs": [
    {
     "name": "stdout",
     "output_type": "stream",
     "text": [
      "1604\n",
      " for value  Male  percentage of people are  33.98 %\n",
      " for value  Female  percentage of people are  66.02 %\n"
     ]
    }
   ],
   "source": [
    "percentage_people(df[['Gender','Number_of_donations_Category_environment','donated']])"
   ]
  },
  {
   "cell_type": "code",
   "execution_count": 116,
   "id": "ca55c594",
   "metadata": {
    "scrolled": true
   },
   "outputs": [
    {
     "name": "stdout",
     "output_type": "stream",
     "text": [
      "2586\n",
      " for value  Male  percentage of people are  39.95 %\n",
      " for value  Female  percentage of people are  60.05 %\n"
     ]
    }
   ],
   "source": [
    "percentage_people(df[['Gender','Number_of_donations_Category_education_and_research','donated']])"
   ]
  },
  {
   "cell_type": "code",
   "execution_count": null,
   "id": "54567140",
   "metadata": {},
   "outputs": [],
   "source": []
  },
  {
   "cell_type": "markdown",
   "id": "98647ce2",
   "metadata": {},
   "source": [
    "# Family income before tax (family_income, category , donation=1/0)"
   ]
  },
  {
   "cell_type": "code",
   "execution_count": null,
   "id": "ce46d553",
   "metadata": {},
   "outputs": [],
   "source": []
  },
  {
   "cell_type": "code",
   "execution_count": 125,
   "id": "295ac1bd",
   "metadata": {
    "scrolled": true
   },
   "outputs": [
    {
     "name": "stdout",
     "output_type": "stream",
     "text": [
      "4710\n",
      " for value  75,000 to 99,999  percentage of people are  18.68 %\n",
      " for value  25,000 to 49,999  percentage of people are  19.26 %\n",
      " for value  50,000 to 74,999  percentage of people are  17.73 %\n",
      " for value  100,000 to 124,999  percentage of people are  10.23 %\n",
      " for value  125,000 and more  percentage of people are  25.05 %\n",
      " for value  Less than 25,000  percentage of people are  9.04 %\n"
     ]
    }
   ],
   "source": [
    "percentage_people(df[['Family_income_group_before_tax','Number_of_donations_Category_religion','donated']])"
   ]
  },
  {
   "cell_type": "code",
   "execution_count": 126,
   "id": "9a2e46ce",
   "metadata": {
    "scrolled": true
   },
   "outputs": [
    {
     "name": "stdout",
     "output_type": "stream",
     "text": [
      "1604\n",
      " for value  75,000 to 99,999  percentage of people are  16.46 %\n",
      " for value  125,000 and more  percentage of people are  28.93 %\n",
      " for value  25,000 to 49,999  percentage of people are  16.58 %\n",
      " for value  100,000 to 124,999  percentage of people are  12.09 %\n",
      " for value  50,000 to 74,999  percentage of people are  17.39 %\n",
      " for value  Less than 25,000  percentage of people are  8.54 %\n"
     ]
    }
   ],
   "source": [
    "percentage_people(df[['Family_income_group_before_tax','Number_of_donations_Category_environment','donated']])"
   ]
  },
  {
   "cell_type": "code",
   "execution_count": 127,
   "id": "e8c195bb",
   "metadata": {
    "scrolled": true
   },
   "outputs": [
    {
     "name": "stdout",
     "output_type": "stream",
     "text": [
      "2586\n",
      " for value  25,000 to 49,999  percentage of people are  13.42 %\n",
      " for value  50,000 to 74,999  percentage of people are  15.04 %\n",
      " for value  125,000 and more  percentage of people are  34.76 %\n",
      " for value  100,000 to 124,999  percentage of people are  12.37 %\n",
      " for value  75,000 to 99,999  percentage of people are  18.21 %\n",
      " for value  Less than 25,000  percentage of people are  6.19 %\n"
     ]
    }
   ],
   "source": [
    "percentage_people(df[['Family_income_group_before_tax','Number_of_donations_Category_education_and_research','donated']])"
   ]
  },
  {
   "cell_type": "markdown",
   "id": "954cd061",
   "metadata": {},
   "source": [
    "## Age group (age_group, category , volunteer=y/n)"
   ]
  },
  {
   "cell_type": "code",
   "execution_count": 141,
   "id": "82d9e7f4",
   "metadata": {},
   "outputs": [
    {
     "name": "stdout",
     "output_type": "stream",
     "text": [
      "1554\n",
      " for value  75+  percentage of people are  17.5 %\n",
      " for value  65-74  percentage of people are  24.26 %\n",
      " for value  55-64  percentage of people are  20.59 %\n",
      " for value  45-54  percentage of people are  13.64 %\n",
      " for value  35-44  percentage of people are  12.74 %\n",
      " for value  25-34  percentage of people are  6.76 %\n",
      " for value  15-24  percentage of people are  4.5 %\n"
     ]
    }
   ],
   "source": [
    "percentage_people(df[['Age_group','Volunteering_Religion','Volunteer']])"
   ]
  },
  {
   "cell_type": "code",
   "execution_count": 148,
   "id": "e4b3a0a0",
   "metadata": {},
   "outputs": [
    {
     "name": "stdout",
     "output_type": "stream",
     "text": [
      "541\n",
      " for value  75+  percentage of people are  4.81 %\n",
      " for value  65-74  percentage of people are  21.63 %\n",
      " for value  55-64  percentage of people are  22.92 %\n",
      " for value  45-54  percentage of people are  14.97 %\n",
      " for value  35-44  percentage of people are  13.49 %\n",
      " for value  25-34  percentage of people are  16.64 %\n",
      " for value  15-24  percentage of people are  5.55 %\n"
     ]
    }
   ],
   "source": [
    "percentage_people(df[['Age_group','Volunteering_Environment','Volunteer']])"
   ]
  },
  {
   "cell_type": "code",
   "execution_count": 140,
   "id": "fc486be9",
   "metadata": {},
   "outputs": [
    {
     "name": "stdout",
     "output_type": "stream",
     "text": [
      "1068\n",
      " for value  65-74  percentage of people are  8.61 %\n",
      " for value  55-64  percentage of people are  10.21 %\n",
      " for value  45-54  percentage of people are  19.76 %\n",
      " for value  75+  percentage of people are  2.06 %\n",
      " for value  35-44  percentage of people are  35.58 %\n",
      " for value  25-34  percentage of people are  12.45 %\n",
      " for value  15-24  percentage of people are  11.33 %\n"
     ]
    }
   ],
   "source": [
    "percentage_people(df[['Age_group','Volunteering_Education_and_research','Volunteer']])"
   ]
  },
  {
   "cell_type": "markdown",
   "id": "c716df01",
   "metadata": {},
   "source": [
    "## gender (gender, category , volunteer=y/n)"
   ]
  },
  {
   "cell_type": "code",
   "execution_count": 144,
   "id": "d7cb956a",
   "metadata": {
    "scrolled": true
   },
   "outputs": [
    {
     "name": "stdout",
     "output_type": "stream",
     "text": [
      "1554\n",
      " for value  Male  percentage of people are  38.35 %\n",
      " for value  Female  percentage of people are  61.65 %\n"
     ]
    }
   ],
   "source": [
    "percentage_people(df[['Gender','Volunteering_Religion','Volunteer']])"
   ]
  },
  {
   "cell_type": "code",
   "execution_count": 147,
   "id": "9c568f56",
   "metadata": {
    "scrolled": true
   },
   "outputs": [
    {
     "name": "stdout",
     "output_type": "stream",
     "text": [
      "541\n",
      " for value  Male  percentage of people are  40.85 %\n",
      " for value  Female  percentage of people are  59.15 %\n"
     ]
    }
   ],
   "source": [
    "percentage_people(df[['Gender','Volunteering_Environment','Volunteer']])"
   ]
  },
  {
   "cell_type": "code",
   "execution_count": 139,
   "id": "c7b4d1b6",
   "metadata": {
    "scrolled": true
   },
   "outputs": [
    {
     "name": "stdout",
     "output_type": "stream",
     "text": [
      "1068\n",
      " for value  Female  percentage of people are  67.7 %\n",
      " for value  Male  percentage of people are  32.3 %\n"
     ]
    }
   ],
   "source": [
    "percentage_people(df[['Gender','Volunteering_Education_and_research','Volunteer']])"
   ]
  },
  {
   "cell_type": "code",
   "execution_count": null,
   "id": "1495491c",
   "metadata": {},
   "outputs": [],
   "source": []
  },
  {
   "cell_type": "markdown",
   "id": "19bd7141",
   "metadata": {},
   "source": [
    "## family Income before tax (family income, category , volunteer=y/n)"
   ]
  },
  {
   "cell_type": "code",
   "execution_count": 145,
   "id": "bc7d478d",
   "metadata": {
    "scrolled": true
   },
   "outputs": [
    {
     "name": "stdout",
     "output_type": "stream",
     "text": [
      "1554\n",
      " for value  75,000 to 99,999  percentage of people are  20.21 %\n",
      " for value  25,000 to 49,999  percentage of people are  18.47 %\n",
      " for value  100,000 to 124,999  percentage of people are  10.55 %\n",
      " for value  125,000 and more  percentage of people are  25.29 %\n",
      " for value  50,000 to 74,999  percentage of people are  17.57 %\n",
      " for value  Less than 25,000  percentage of people are  7.92 %\n"
     ]
    }
   ],
   "source": [
    "percentage_people(df[['Family_income_group_before_tax','Volunteering_Religion','Volunteer']])"
   ]
  },
  {
   "cell_type": "code",
   "execution_count": 146,
   "id": "58d3ce00",
   "metadata": {
    "scrolled": true
   },
   "outputs": [
    {
     "name": "stdout",
     "output_type": "stream",
     "text": [
      "541\n",
      " for value  100,000 to 124,999  percentage of people are  10.72 %\n",
      " for value  50,000 to 74,999  percentage of people are  16.82 %\n",
      " for value  125,000 and more  percentage of people are  33.09 %\n",
      " for value  Less than 25,000  percentage of people are  10.35 %\n",
      " for value  75,000 to 99,999  percentage of people are  13.49 %\n",
      " for value  25,000 to 49,999  percentage of people are  15.53 %\n"
     ]
    }
   ],
   "source": [
    "percentage_people(df[['Family_income_group_before_tax','Volunteering_Environment','Volunteer']])"
   ]
  },
  {
   "cell_type": "code",
   "execution_count": 138,
   "id": "d7b68b13",
   "metadata": {
    "scrolled": true
   },
   "outputs": [
    {
     "name": "stdout",
     "output_type": "stream",
     "text": [
      "1068\n",
      " for value  50,000 to 74,999  percentage of people are  12.36 %\n",
      " for value  75,000 to 99,999  percentage of people are  17.79 %\n",
      " for value  125,000 and more  percentage of people are  42.88 %\n",
      " for value  100,000 to 124,999  percentage of people are  12.45 %\n",
      " for value  25,000 to 49,999  percentage of people are  8.9 %\n",
      " for value  Less than 25,000  percentage of people are  5.62 %\n"
     ]
    }
   ],
   "source": [
    "percentage_people(df[['Family_income_group_before_tax','Volunteering_Education_and_research','Volunteer']])"
   ]
  },
  {
   "cell_type": "markdown",
   "id": "fc5f3f8f",
   "metadata": {},
   "source": [
    "# How channels"
   ]
  },
  {
   "cell_type": "code",
   "execution_count": 66,
   "id": "df6b6a54",
   "metadata": {},
   "outputs": [],
   "source": [
    "def percentage_how(df):\n",
    "    try:\n",
    "        t = len(df[df[df.columns[-1]] >= 1])\n",
    "    except:\n",
    "        t = len(df[df[df.columns[-1]] == 'yes'])\n",
    "    print(t)\n",
    "    for i in df.columns[:-1]:\n",
    "        try:\n",
    "            s = (df[i]>=1).sum()\n",
    "        except:\n",
    "            s= (df[i] == 'yes').sum()\n",
    "        print(s)\n",
    "        print(i,\"  \" ,round(s*100/t,2),\"%\")\n",
    "        "
   ]
  },
  {
   "cell_type": "code",
   "execution_count": 61,
   "id": "7b5ced44",
   "metadata": {},
   "outputs": [
    {
     "data": {
      "text/plain": [
       "3773"
      ]
     },
     "execution_count": 61,
     "metadata": {},
     "output_type": "execute_result"
    }
   ],
   "source": [
    "# df.filter(like='Number_of_donations').columns\n",
    "(df['Informal_volunteering_Canadian']==2).sum()"
   ]
  },
  {
   "cell_type": "markdown",
   "id": "6c5f42f0",
   "metadata": {},
   "source": [
    "### donation"
   ]
  },
  {
   "cell_type": "code",
   "execution_count": 46,
   "id": "972e7807",
   "metadata": {},
   "outputs": [
    {
     "name": "stdout",
     "output_type": "stream",
     "text": [
      "Number_of_donations_Mail    20.4 %\n",
      "Number_of_donations_Telephone    8.93 %\n",
      "Number_of_donations_Television    6.28 %\n",
      "Number_of_donations_Online    13.6 %\n",
      "Number_of_donations_Own_initiative    19.76 %\n",
      "Number_of_donations_to_Charity_event    18.7 %\n",
      "Number_of_donations_In_memory_of_someone    23.61 %\n",
      "Number_of_donations_Work    18.39 %\n",
      "Number_of_donations_Door_to_door_canvassing    20.52 %\n",
      "Number_of_donations_Shopping_centre    35.59 %\n",
      "Number_of_donations_Place_of_worship    27.75 %\n",
      "Number_of_donations_By_sponsoring_someone    28.39 %\n",
      "Number_of_donations_Other    5.85 %\n"
     ]
    }
   ],
   "source": [
    "percentage_how(df[['Number_of_donations_Mail', 'Number_of_donations_Telephone',\n",
    "       'Number_of_donations_Television', 'Number_of_donations_Online',\n",
    "       'Number_of_donations_Own_initiative',\n",
    "       'Number_of_donations_to_Charity_event',\n",
    "       'Number_of_donations_In_memory_of_someone', 'Number_of_donations_Work',\n",
    "       'Number_of_donations_Door_to_door_canvassing',\n",
    "       'Number_of_donations_Shopping_centre',\n",
    "       'Number_of_donations_Place_of_worship',\n",
    "       'Number_of_donations_By_sponsoring_someone',\n",
    "       'Number_of_donations_Other','donated']])"
   ]
  },
  {
   "cell_type": "markdown",
   "id": "7db57211",
   "metadata": {},
   "source": [
    "### Volunteer"
   ]
  },
  {
   "cell_type": "code",
   "execution_count": null,
   "id": "2e5835f4",
   "metadata": {},
   "outputs": [],
   "source": []
  },
  {
   "cell_type": "code",
   "execution_count": 67,
   "id": "0b1d60b6",
   "metadata": {
    "scrolled": true
   },
   "outputs": [
    {
     "name": "stdout",
     "output_type": "stream",
     "text": [
      "8365\n",
      "2802\n",
      "Volunteering_Using_internet    33.5 %\n",
      "16149\n",
      "Informal_volunteering_Canadian    193.05 %\n",
      "16149\n",
      "Informal_volunteering_International    193.05 %\n"
     ]
    }
   ],
   "source": [
    "percentage_how(df[['Volunteering_Using_internet','Informal_volunteering_Canadian','Informal_volunteering_International','Volunteer']])"
   ]
  },
  {
   "cell_type": "markdown",
   "id": "487b40f0",
   "metadata": {},
   "source": [
    "# Why reasons\n",
    "\n",
    "## category avg number of people participate \n",
    "### Reasons \n",
    "### age group \n",
    "### avg people higher than avg and lower"
   ]
  },
  {
   "cell_type": "markdown",
   "id": "2bd56147",
   "metadata": {},
   "source": [
    "## Donation"
   ]
  },
  {
   "cell_type": "code",
   "execution_count": 131,
   "id": "055f1eb3",
   "metadata": {},
   "outputs": [
    {
     "data": {
      "text/plain": [
       "Index(['Reasons_giving_Personally_affected', 'Reasons_giving_Tax_credit',\n",
       "       'Reasons_giving_Religious_reasons', 'Reasons_giving_Spiritual',\n",
       "       'Reasons_giving_Cause', 'Reasons_giving_Compassion',\n",
       "       'Reasons_giving_Community_contribution',\n",
       "       'Reasons_giving_asked_by_someone_known'],\n",
       "      dtype='object')"
      ]
     },
     "execution_count": 131,
     "metadata": {},
     "output_type": "execute_result"
    }
   ],
   "source": [
    "df.filter(like='Reasons_giving_').columns"
   ]
  },
  {
   "cell_type": "code",
   "execution_count": 173,
   "id": "4a069b9f",
   "metadata": {},
   "outputs": [],
   "source": [
    "def why_reasons_avg(df):\n",
    "    \n",
    "    #percentage of people giving in this category  \n",
    "    avg = round(df[df.columns[0]].sum() *100/100000,2)\n",
    "    # filter for the reason \n",
    "    df2 = df[(df[df.columns[1]] == 1)&(df[df.columns[0]] > 0)]\n",
    "    #filter for age groups and check number of people \n",
    "    #len(df2)\n",
    "    for i in df2[df2.columns[2]].unique():\n",
    "        df3 = df2[df2[df2.columns[2]] == i]\n",
    "        gt_count = (df3[df3.columns[0]] >= avg).sum() \n",
    "        lt_count = len(df3) - gt_count\n",
    "        \n",
    "        print(i,\"# people more than avg of category \",gt_count,\" less \",lt_count)\n",
    "        "
   ]
  },
  {
   "cell_type": "code",
   "execution_count": 174,
   "id": "94ec4f49",
   "metadata": {},
   "outputs": [
    {
     "name": "stdout",
     "output_type": "stream",
     "text": [
      "75+ # people more than avg of category  25  less  484\n",
      "65-74 # people more than avg of category  31  less  668\n",
      "55-64 # people more than avg of category  39  less  671\n",
      "45-54 # people more than avg of category  18  less  422\n",
      "35-44 # people more than avg of category  34  less  366\n",
      "25-34 # people more than avg of category  10  less  188\n",
      "15-24 # people more than avg of category  1  less  53\n"
     ]
    }
   ],
   "source": [
    "why_reasons_avg(df[['Amount_of_donations_Category_religion','Reasons_giving_Personally_affected','Age_group','donated']])"
   ]
  },
  {
   "cell_type": "code",
   "execution_count": 175,
   "id": "baddc672",
   "metadata": {},
   "outputs": [
    {
     "name": "stdout",
     "output_type": "stream",
     "text": [
      "75+ # people more than avg of category  30  less  472\n",
      "65-74 # people more than avg of category  32  less  612\n",
      "55-64 # people more than avg of category  43  less  528\n",
      "45-54 # people more than avg of category  19  less  375\n",
      "35-44 # people more than avg of category  39  less  316\n",
      "25-34 # people more than avg of category  14  less  188\n",
      "15-24 # people more than avg of category  1  less  59\n"
     ]
    }
   ],
   "source": [
    "why_reasons_avg(df[['Amount_of_donations_Category_religion','Reasons_giving_Religious_reasons','Age_group','donated']])"
   ]
  },
  {
   "cell_type": "code",
   "execution_count": 176,
   "id": "bda0e44f",
   "metadata": {},
   "outputs": [
    {
     "name": "stdout",
     "output_type": "stream",
     "text": [
      "75+ # people more than avg of category  34  less  565\n",
      "65-74 # people more than avg of category  36  less  797\n",
      "55-64 # people more than avg of category  44  less  772\n",
      "45-54 # people more than avg of category  18  less  483\n",
      "35-44 # people more than avg of category  36  less  447\n",
      "25-34 # people more than avg of category  15  less  256\n",
      "15-24 # people more than avg of category  1  less  75\n"
     ]
    }
   ],
   "source": [
    "why_reasons_avg(df[['Amount_of_donations_Category_religion','Reasons_giving_Compassion','Age_group','donated']])"
   ]
  },
  {
   "cell_type": "markdown",
   "id": "4f04f8ad",
   "metadata": {},
   "source": [
    "## Volunteer"
   ]
  },
  {
   "cell_type": "code",
   "execution_count": 177,
   "id": "f2f4bccc",
   "metadata": {},
   "outputs": [
    {
     "name": "stdout",
     "output_type": "stream",
     "text": [
      "75+ # people more than avg of category  38  less  159\n",
      "65-74 # people more than avg of category  52  less  213\n",
      "55-64 # people more than avg of category  40  less  204\n",
      "45-54 # people more than avg of category  28  less  124\n",
      "35-44 # people more than avg of category  18  less  122\n",
      "25-34 # people more than avg of category  11  less  55\n",
      "15-24 # people more than avg of category  3  less  22\n"
     ]
    }
   ],
   "source": [
    "why_reasons_avg(df[['Volunteering_hours_Volunteering_Religion','Reasons_giving_Personally_affected','Age_group','Volunteer']])"
   ]
  },
  {
   "cell_type": "code",
   "execution_count": 178,
   "id": "561af9ca",
   "metadata": {},
   "outputs": [
    {
     "name": "stdout",
     "output_type": "stream",
     "text": [
      "75+ # people more than avg of category  39  less  159\n",
      "65-74 # people more than avg of category  53  less  222\n",
      "55-64 # people more than avg of category  46  less  199\n",
      "45-54 # people more than avg of category  27  less  133\n",
      "35-44 # people more than avg of category  20  less  121\n",
      "25-34 # people more than avg of category  11  less  62\n",
      "15-24 # people more than avg of category  4  less  24\n"
     ]
    }
   ],
   "source": [
    "why_reasons_avg(df[['Volunteering_hours_Volunteering_Religion','Reasons_giving_Religious_reasons','Age_group','donated']])"
   ]
  },
  {
   "cell_type": "code",
   "execution_count": 179,
   "id": "d7a0985d",
   "metadata": {},
   "outputs": [
    {
     "name": "stdout",
     "output_type": "stream",
     "text": [
      "75+ # people more than avg of category  45  less  177\n",
      "65-74 # people more than avg of category  59  less  247\n",
      "55-64 # people more than avg of category  51  less  235\n",
      "45-54 # people more than avg of category  28  less  149\n",
      "35-44 # people more than avg of category  22  less  136\n",
      "25-34 # people more than avg of category  10  less  66\n",
      "15-24 # people more than avg of category  4  less  30\n"
     ]
    }
   ],
   "source": [
    "why_reasons_avg(df[['Volunteering_hours_Volunteering_Religion','Reasons_giving_Compassion','Age_group','donated']])"
   ]
  },
  {
   "cell_type": "code",
   "execution_count": null,
   "id": "f13a84a6",
   "metadata": {},
   "outputs": [],
   "source": []
  },
  {
   "cell_type": "code",
   "execution_count": null,
   "id": "d81d2154",
   "metadata": {},
   "outputs": [],
   "source": []
  },
  {
   "cell_type": "code",
   "execution_count": 28,
   "id": "8e8944de",
   "metadata": {
    "scrolled": true
   },
   "outputs": [
    {
     "data": {
      "text/html": [
       "<div>\n",
       "<style scoped>\n",
       "    .dataframe tbody tr th:only-of-type {\n",
       "        vertical-align: middle;\n",
       "    }\n",
       "\n",
       "    .dataframe tbody tr th {\n",
       "        vertical-align: top;\n",
       "    }\n",
       "\n",
       "    .dataframe thead th {\n",
       "        text-align: right;\n",
       "    }\n",
       "</style>\n",
       "<table border=\"1\" class=\"dataframe\">\n",
       "  <thead>\n",
       "    <tr style=\"text-align: right;\">\n",
       "      <th></th>\n",
       "      <th>Unnamed: 0</th>\n",
       "      <th>Age_group</th>\n",
       "      <th>Gender</th>\n",
       "      <th>Martial_status</th>\n",
       "      <th>Household_size</th>\n",
       "      <th>Children</th>\n",
       "      <th>Living_arrangement</th>\n",
       "      <th>Three_generation_or_more</th>\n",
       "      <th>Province</th>\n",
       "      <th>Volunteer</th>\n",
       "      <th>...</th>\n",
       "      <th>Amount_of_donations_Category_business_and_professional</th>\n",
       "      <th>Amount_of_donations_Category_not_elsewhere_classified</th>\n",
       "      <th>Education_Attending_School</th>\n",
       "      <th>Education_Enrollment_status</th>\n",
       "      <th>Education_Highest_degree</th>\n",
       "      <th>Labour_force_status</th>\n",
       "      <th>Employment_Employee_or_self_employed</th>\n",
       "      <th>Personal_income_group_before_tax</th>\n",
       "      <th>Family_income_group_before_tax</th>\n",
       "      <th>donated</th>\n",
       "    </tr>\n",
       "  </thead>\n",
       "  <tbody>\n",
       "    <tr>\n",
       "      <th>0</th>\n",
       "      <td>0</td>\n",
       "      <td>75+</td>\n",
       "      <td>Male</td>\n",
       "      <td>Married</td>\n",
       "      <td>2</td>\n",
       "      <td>no</td>\n",
       "      <td>Living with more than one parent</td>\n",
       "      <td>no</td>\n",
       "      <td>Ontario</td>\n",
       "      <td>no</td>\n",
       "      <td>...</td>\n",
       "      <td>0</td>\n",
       "      <td>2.0</td>\n",
       "      <td>no</td>\n",
       "      <td>Valid skip</td>\n",
       "      <td>Less than High School</td>\n",
       "      <td>Not in labour force</td>\n",
       "      <td>Valid skip</td>\n",
       "      <td>50,000 to 74,999</td>\n",
       "      <td>75,000 to 99,999</td>\n",
       "      <td>1</td>\n",
       "    </tr>\n",
       "    <tr>\n",
       "      <th>1</th>\n",
       "      <td>1</td>\n",
       "      <td>75+</td>\n",
       "      <td>Male</td>\n",
       "      <td>Married</td>\n",
       "      <td>1</td>\n",
       "      <td>no</td>\n",
       "      <td>Living with more than one parent</td>\n",
       "      <td>no</td>\n",
       "      <td>Ontario</td>\n",
       "      <td>yes</td>\n",
       "      <td>...</td>\n",
       "      <td>0</td>\n",
       "      <td>0.0</td>\n",
       "      <td>no</td>\n",
       "      <td>Valid skip</td>\n",
       "      <td>University Diploma</td>\n",
       "      <td>Not in labour force</td>\n",
       "      <td>Valid skip</td>\n",
       "      <td>75,000 to 99,999</td>\n",
       "      <td>75,000 to 99,999</td>\n",
       "      <td>1</td>\n",
       "    </tr>\n",
       "    <tr>\n",
       "      <th>5</th>\n",
       "      <td>5</td>\n",
       "      <td>75+</td>\n",
       "      <td>Male</td>\n",
       "      <td>Married</td>\n",
       "      <td>2</td>\n",
       "      <td>no</td>\n",
       "      <td>Living with more than one parent</td>\n",
       "      <td>no</td>\n",
       "      <td>Prince Edward Island</td>\n",
       "      <td>no</td>\n",
       "      <td>...</td>\n",
       "      <td>0</td>\n",
       "      <td>0.0</td>\n",
       "      <td>no</td>\n",
       "      <td>Valid skip</td>\n",
       "      <td>Graduated from High school</td>\n",
       "      <td>Not in labour force</td>\n",
       "      <td>Valid skip</td>\n",
       "      <td>Less than 25,000</td>\n",
       "      <td>25,000 to 49,999</td>\n",
       "      <td>1</td>\n",
       "    </tr>\n",
       "    <tr>\n",
       "      <th>7</th>\n",
       "      <td>7</td>\n",
       "      <td>75+</td>\n",
       "      <td>Male</td>\n",
       "      <td>Married</td>\n",
       "      <td>1</td>\n",
       "      <td>no</td>\n",
       "      <td>Living with more than one parent</td>\n",
       "      <td>no</td>\n",
       "      <td>British Columbia</td>\n",
       "      <td>yes</td>\n",
       "      <td>...</td>\n",
       "      <td>0</td>\n",
       "      <td>0.0</td>\n",
       "      <td>no</td>\n",
       "      <td>Valid skip</td>\n",
       "      <td>Post-secondary diploma</td>\n",
       "      <td>Not in labour force</td>\n",
       "      <td>Valid skip</td>\n",
       "      <td>125,000 and more</td>\n",
       "      <td>125,000 and more</td>\n",
       "      <td>1</td>\n",
       "    </tr>\n",
       "    <tr>\n",
       "      <th>9</th>\n",
       "      <td>9</td>\n",
       "      <td>75+</td>\n",
       "      <td>Female</td>\n",
       "      <td>Married</td>\n",
       "      <td>2</td>\n",
       "      <td>no</td>\n",
       "      <td>Living with more than one parent</td>\n",
       "      <td>no</td>\n",
       "      <td>Ontario</td>\n",
       "      <td>no</td>\n",
       "      <td>...</td>\n",
       "      <td>0</td>\n",
       "      <td>0.0</td>\n",
       "      <td>no</td>\n",
       "      <td>Valid skip</td>\n",
       "      <td>Post-secondary diploma</td>\n",
       "      <td>Not in labour force</td>\n",
       "      <td>Valid skip</td>\n",
       "      <td>25,000 to 49,999</td>\n",
       "      <td>75,000 to 99,999</td>\n",
       "      <td>1</td>\n",
       "    </tr>\n",
       "    <tr>\n",
       "      <th>...</th>\n",
       "      <td>...</td>\n",
       "      <td>...</td>\n",
       "      <td>...</td>\n",
       "      <td>...</td>\n",
       "      <td>...</td>\n",
       "      <td>...</td>\n",
       "      <td>...</td>\n",
       "      <td>...</td>\n",
       "      <td>...</td>\n",
       "      <td>...</td>\n",
       "      <td>...</td>\n",
       "      <td>...</td>\n",
       "      <td>...</td>\n",
       "      <td>...</td>\n",
       "      <td>...</td>\n",
       "      <td>...</td>\n",
       "      <td>...</td>\n",
       "      <td>...</td>\n",
       "      <td>...</td>\n",
       "      <td>...</td>\n",
       "      <td>...</td>\n",
       "    </tr>\n",
       "    <tr>\n",
       "      <th>16076</th>\n",
       "      <td>16076</td>\n",
       "      <td>15-24</td>\n",
       "      <td>Male</td>\n",
       "      <td>Single, never married</td>\n",
       "      <td>4</td>\n",
       "      <td>no</td>\n",
       "      <td>Living with more than one parent</td>\n",
       "      <td>no</td>\n",
       "      <td>Ontario</td>\n",
       "      <td>yes</td>\n",
       "      <td>...</td>\n",
       "      <td>0</td>\n",
       "      <td>0.0</td>\n",
       "      <td>yes</td>\n",
       "      <td>a full-time student</td>\n",
       "      <td>Less than High School</td>\n",
       "      <td>Employed</td>\n",
       "      <td>Employee</td>\n",
       "      <td>Less than 25,000</td>\n",
       "      <td>125,000 and more</td>\n",
       "      <td>1</td>\n",
       "    </tr>\n",
       "    <tr>\n",
       "      <th>16102</th>\n",
       "      <td>16102</td>\n",
       "      <td>15-24</td>\n",
       "      <td>Male</td>\n",
       "      <td>Single, never married</td>\n",
       "      <td>2</td>\n",
       "      <td>no</td>\n",
       "      <td>Living with more than one parent</td>\n",
       "      <td>no</td>\n",
       "      <td>Ontario</td>\n",
       "      <td>yes</td>\n",
       "      <td>...</td>\n",
       "      <td>0</td>\n",
       "      <td>0.0</td>\n",
       "      <td>no</td>\n",
       "      <td>Valid skip</td>\n",
       "      <td>Post-secondary diploma</td>\n",
       "      <td>Employed</td>\n",
       "      <td>Employee</td>\n",
       "      <td>25,000 to 49,999</td>\n",
       "      <td>50,000 to 74,999</td>\n",
       "      <td>1</td>\n",
       "    </tr>\n",
       "    <tr>\n",
       "      <th>16117</th>\n",
       "      <td>16117</td>\n",
       "      <td>15-24</td>\n",
       "      <td>Male</td>\n",
       "      <td>Single, never married</td>\n",
       "      <td>4</td>\n",
       "      <td>no</td>\n",
       "      <td>Living with more than one parent</td>\n",
       "      <td>no</td>\n",
       "      <td>Ontario</td>\n",
       "      <td>yes</td>\n",
       "      <td>...</td>\n",
       "      <td>0</td>\n",
       "      <td>0.0</td>\n",
       "      <td>yes</td>\n",
       "      <td>a full-time student</td>\n",
       "      <td>Less than High School</td>\n",
       "      <td>Not in labour force</td>\n",
       "      <td>Valid skip</td>\n",
       "      <td>Less than 25,000</td>\n",
       "      <td>125,000 and more</td>\n",
       "      <td>1</td>\n",
       "    </tr>\n",
       "    <tr>\n",
       "      <th>16123</th>\n",
       "      <td>16123</td>\n",
       "      <td>15-24</td>\n",
       "      <td>Male</td>\n",
       "      <td>Single, never married</td>\n",
       "      <td>2</td>\n",
       "      <td>no</td>\n",
       "      <td>Living with more than one parent</td>\n",
       "      <td>no</td>\n",
       "      <td>Quebec</td>\n",
       "      <td>yes</td>\n",
       "      <td>...</td>\n",
       "      <td>0</td>\n",
       "      <td>0.0</td>\n",
       "      <td>yes</td>\n",
       "      <td>a full-time student</td>\n",
       "      <td>Post-secondary diploma</td>\n",
       "      <td>Employed</td>\n",
       "      <td>Employee</td>\n",
       "      <td>Less than 25,000</td>\n",
       "      <td>Less than 25,000</td>\n",
       "      <td>1</td>\n",
       "    </tr>\n",
       "    <tr>\n",
       "      <th>16139</th>\n",
       "      <td>16139</td>\n",
       "      <td>15-24</td>\n",
       "      <td>Female</td>\n",
       "      <td>Single, never married</td>\n",
       "      <td>4</td>\n",
       "      <td>no</td>\n",
       "      <td>Living with more than one parent</td>\n",
       "      <td>no</td>\n",
       "      <td>New Brunswick</td>\n",
       "      <td>yes</td>\n",
       "      <td>...</td>\n",
       "      <td>0</td>\n",
       "      <td>0.0</td>\n",
       "      <td>yes</td>\n",
       "      <td>a full-time student</td>\n",
       "      <td>Graduated from High school</td>\n",
       "      <td>Not in labour force</td>\n",
       "      <td>Valid skip</td>\n",
       "      <td>Less than 25,000</td>\n",
       "      <td>125,000 and more</td>\n",
       "      <td>1</td>\n",
       "    </tr>\n",
       "  </tbody>\n",
       "</table>\n",
       "<p>4615 rows × 121 columns</p>\n",
       "</div>"
      ],
      "text/plain": [
       "       Unnamed: 0 Age_group  Gender         Martial_status Household_size  \\\n",
       "0               0       75+    Male                Married              2   \n",
       "1               1       75+    Male                Married              1   \n",
       "5               5       75+    Male                Married              2   \n",
       "7               7       75+    Male                Married              1   \n",
       "9               9       75+  Female                Married              2   \n",
       "...           ...       ...     ...                    ...            ...   \n",
       "16076       16076     15-24    Male  Single, never married              4   \n",
       "16102       16102     15-24    Male  Single, never married              2   \n",
       "16117       16117     15-24    Male  Single, never married              4   \n",
       "16123       16123     15-24    Male  Single, never married              2   \n",
       "16139       16139     15-24  Female  Single, never married              4   \n",
       "\n",
       "      Children                Living_arrangement Three_generation_or_more  \\\n",
       "0           no  Living with more than one parent                       no   \n",
       "1           no  Living with more than one parent                       no   \n",
       "5           no  Living with more than one parent                       no   \n",
       "7           no  Living with more than one parent                       no   \n",
       "9           no  Living with more than one parent                       no   \n",
       "...        ...                               ...                      ...   \n",
       "16076       no  Living with more than one parent                       no   \n",
       "16102       no  Living with more than one parent                       no   \n",
       "16117       no  Living with more than one parent                       no   \n",
       "16123       no  Living with more than one parent                       no   \n",
       "16139       no  Living with more than one parent                       no   \n",
       "\n",
       "                   Province Volunteer  ...  \\\n",
       "0                   Ontario        no  ...   \n",
       "1                   Ontario       yes  ...   \n",
       "5      Prince Edward Island        no  ...   \n",
       "7          British Columbia       yes  ...   \n",
       "9                   Ontario        no  ...   \n",
       "...                     ...       ...  ...   \n",
       "16076               Ontario       yes  ...   \n",
       "16102               Ontario       yes  ...   \n",
       "16117               Ontario       yes  ...   \n",
       "16123                Quebec       yes  ...   \n",
       "16139         New Brunswick       yes  ...   \n",
       "\n",
       "      Amount_of_donations_Category_business_and_professional  \\\n",
       "0                                                      0       \n",
       "1                                                      0       \n",
       "5                                                      0       \n",
       "7                                                      0       \n",
       "9                                                      0       \n",
       "...                                                  ...       \n",
       "16076                                                  0       \n",
       "16102                                                  0       \n",
       "16117                                                  0       \n",
       "16123                                                  0       \n",
       "16139                                                  0       \n",
       "\n",
       "      Amount_of_donations_Category_not_elsewhere_classified  \\\n",
       "0                                                    2.0      \n",
       "1                                                    0.0      \n",
       "5                                                    0.0      \n",
       "7                                                    0.0      \n",
       "9                                                    0.0      \n",
       "...                                                  ...      \n",
       "16076                                                0.0      \n",
       "16102                                                0.0      \n",
       "16117                                                0.0      \n",
       "16123                                                0.0      \n",
       "16139                                                0.0      \n",
       "\n",
       "       Education_Attending_School Education_Enrollment_status  \\\n",
       "0                              no                  Valid skip   \n",
       "1                              no                  Valid skip   \n",
       "5                              no                  Valid skip   \n",
       "7                              no                  Valid skip   \n",
       "9                              no                  Valid skip   \n",
       "...                           ...                         ...   \n",
       "16076                         yes         a full-time student   \n",
       "16102                          no                  Valid skip   \n",
       "16117                         yes         a full-time student   \n",
       "16123                         yes         a full-time student   \n",
       "16139                         yes         a full-time student   \n",
       "\n",
       "         Education_Highest_degree  Labour_force_status  \\\n",
       "0           Less than High School  Not in labour force   \n",
       "1              University Diploma  Not in labour force   \n",
       "5      Graduated from High school  Not in labour force   \n",
       "7          Post-secondary diploma  Not in labour force   \n",
       "9          Post-secondary diploma  Not in labour force   \n",
       "...                           ...                  ...   \n",
       "16076       Less than High School             Employed   \n",
       "16102      Post-secondary diploma             Employed   \n",
       "16117       Less than High School  Not in labour force   \n",
       "16123      Post-secondary diploma             Employed   \n",
       "16139  Graduated from High school  Not in labour force   \n",
       "\n",
       "       Employment_Employee_or_self_employed  Personal_income_group_before_tax  \\\n",
       "0                                Valid skip                  50,000 to 74,999   \n",
       "1                                Valid skip                  75,000 to 99,999   \n",
       "5                                Valid skip                  Less than 25,000   \n",
       "7                                Valid skip                  125,000 and more   \n",
       "9                                Valid skip                  25,000 to 49,999   \n",
       "...                                     ...                               ...   \n",
       "16076                              Employee                  Less than 25,000   \n",
       "16102                              Employee                  25,000 to 49,999   \n",
       "16117                            Valid skip                  Less than 25,000   \n",
       "16123                              Employee                  Less than 25,000   \n",
       "16139                            Valid skip                  Less than 25,000   \n",
       "\n",
       "       Family_income_group_before_tax  donated  \n",
       "0                    75,000 to 99,999        1  \n",
       "1                    75,000 to 99,999        1  \n",
       "5                    25,000 to 49,999        1  \n",
       "7                    125,000 and more        1  \n",
       "9                    75,000 to 99,999        1  \n",
       "...                               ...      ...  \n",
       "16076                125,000 and more        1  \n",
       "16102                50,000 to 74,999        1  \n",
       "16117                125,000 and more        1  \n",
       "16123                Less than 25,000        1  \n",
       "16139                125,000 and more        1  \n",
       "\n",
       "[4615 rows x 121 columns]"
      ]
     },
     "execution_count": 28,
     "metadata": {},
     "output_type": "execute_result"
    }
   ],
   "source": [
    "df[df['Number_of_donations_Category_health']>1]"
   ]
  },
  {
   "cell_type": "code",
   "execution_count": null,
   "id": "66dc4978",
   "metadata": {},
   "outputs": [],
   "source": []
  },
  {
   "cell_type": "code",
   "execution_count": null,
   "id": "df8de016",
   "metadata": {},
   "outputs": [],
   "source": []
  },
  {
   "cell_type": "code",
   "execution_count": 32,
   "id": "1293367d",
   "metadata": {},
   "outputs": [
    {
     "data": {
      "text/html": [
       "<div>\n",
       "<style scoped>\n",
       "    .dataframe tbody tr th:only-of-type {\n",
       "        vertical-align: middle;\n",
       "    }\n",
       "\n",
       "    .dataframe tbody tr th {\n",
       "        vertical-align: top;\n",
       "    }\n",
       "\n",
       "    .dataframe thead th {\n",
       "        text-align: right;\n",
       "    }\n",
       "</style>\n",
       "<table border=\"1\" class=\"dataframe\">\n",
       "  <thead>\n",
       "    <tr style=\"text-align: right;\">\n",
       "      <th></th>\n",
       "      <th>Unnamed: 0</th>\n",
       "      <th>Age_group</th>\n",
       "      <th>Gender</th>\n",
       "      <th>Martial_status</th>\n",
       "      <th>Household_size</th>\n",
       "      <th>Children</th>\n",
       "      <th>Living_arrangement</th>\n",
       "      <th>Three_generation_or_more</th>\n",
       "      <th>Province</th>\n",
       "      <th>Volunteer</th>\n",
       "      <th>...</th>\n",
       "      <th>Amount_of_donations_Category_business_and_professional</th>\n",
       "      <th>Amount_of_donations_Category_not_elsewhere_classified</th>\n",
       "      <th>Education_Attending_School</th>\n",
       "      <th>Education_Enrollment_status</th>\n",
       "      <th>Education_Highest_degree</th>\n",
       "      <th>Labour_force_status</th>\n",
       "      <th>Employment_Employee_or_self_employed</th>\n",
       "      <th>Personal_income_group_before_tax</th>\n",
       "      <th>Family_income_group_before_tax</th>\n",
       "      <th>donated</th>\n",
       "    </tr>\n",
       "  </thead>\n",
       "  <tbody>\n",
       "    <tr>\n",
       "      <th>17</th>\n",
       "      <td>17</td>\n",
       "      <td>75+</td>\n",
       "      <td>Male</td>\n",
       "      <td>Married</td>\n",
       "      <td>2</td>\n",
       "      <td>no</td>\n",
       "      <td>Living with more than one parent</td>\n",
       "      <td>no</td>\n",
       "      <td>Manitoba</td>\n",
       "      <td>no</td>\n",
       "      <td>...</td>\n",
       "      <td>-1</td>\n",
       "      <td>-1.0</td>\n",
       "      <td>no</td>\n",
       "      <td>Valid skip</td>\n",
       "      <td>Post-secondary diploma</td>\n",
       "      <td>Not in labour force</td>\n",
       "      <td>Valid skip</td>\n",
       "      <td>Less than 25,000</td>\n",
       "      <td>25,000 to 49,999</td>\n",
       "      <td>2</td>\n",
       "    </tr>\n",
       "    <tr>\n",
       "      <th>22</th>\n",
       "      <td>22</td>\n",
       "      <td>75+</td>\n",
       "      <td>Male</td>\n",
       "      <td>Married</td>\n",
       "      <td>2</td>\n",
       "      <td>no</td>\n",
       "      <td>Living with more than one parent</td>\n",
       "      <td>no</td>\n",
       "      <td>Quebec</td>\n",
       "      <td>no</td>\n",
       "      <td>...</td>\n",
       "      <td>-1</td>\n",
       "      <td>-1.0</td>\n",
       "      <td>no</td>\n",
       "      <td>Valid skip</td>\n",
       "      <td>Post-secondary diploma</td>\n",
       "      <td>Not in labour force</td>\n",
       "      <td>Valid skip</td>\n",
       "      <td>Less than 25,000</td>\n",
       "      <td>50,000 to 74,999</td>\n",
       "      <td>2</td>\n",
       "    </tr>\n",
       "    <tr>\n",
       "      <th>29</th>\n",
       "      <td>29</td>\n",
       "      <td>65-74</td>\n",
       "      <td>Male</td>\n",
       "      <td>Married</td>\n",
       "      <td>3</td>\n",
       "      <td>yes</td>\n",
       "      <td>Not living with parents</td>\n",
       "      <td>no</td>\n",
       "      <td>Alberta</td>\n",
       "      <td>no</td>\n",
       "      <td>...</td>\n",
       "      <td>-1</td>\n",
       "      <td>-1.0</td>\n",
       "      <td>no</td>\n",
       "      <td>Valid skip</td>\n",
       "      <td>Less than High School</td>\n",
       "      <td>Not in labour force</td>\n",
       "      <td>Valid skip</td>\n",
       "      <td>25,000 to 49,999</td>\n",
       "      <td>50,000 to 74,999</td>\n",
       "      <td>2</td>\n",
       "    </tr>\n",
       "    <tr>\n",
       "      <th>34</th>\n",
       "      <td>34</td>\n",
       "      <td>75+</td>\n",
       "      <td>Female</td>\n",
       "      <td>Married</td>\n",
       "      <td>2</td>\n",
       "      <td>no</td>\n",
       "      <td>Living with more than one parent</td>\n",
       "      <td>no</td>\n",
       "      <td>Ontario</td>\n",
       "      <td>no</td>\n",
       "      <td>...</td>\n",
       "      <td>-1</td>\n",
       "      <td>-1.0</td>\n",
       "      <td>no</td>\n",
       "      <td>Valid skip</td>\n",
       "      <td>Less than High School</td>\n",
       "      <td>Employed</td>\n",
       "      <td>Self-employed</td>\n",
       "      <td>Less than 25,000</td>\n",
       "      <td>25,000 to 49,999</td>\n",
       "      <td>2</td>\n",
       "    </tr>\n",
       "    <tr>\n",
       "      <th>38</th>\n",
       "      <td>38</td>\n",
       "      <td>65-74</td>\n",
       "      <td>Male</td>\n",
       "      <td>Married</td>\n",
       "      <td>3</td>\n",
       "      <td>yes</td>\n",
       "      <td>Not living with parents</td>\n",
       "      <td>no</td>\n",
       "      <td>Newfoundland and Labrador</td>\n",
       "      <td>no</td>\n",
       "      <td>...</td>\n",
       "      <td>-1</td>\n",
       "      <td>-1.0</td>\n",
       "      <td>no</td>\n",
       "      <td>Valid skip</td>\n",
       "      <td>Post-secondary diploma</td>\n",
       "      <td>Not in labour force</td>\n",
       "      <td>Valid skip</td>\n",
       "      <td>50,000 to 74,999</td>\n",
       "      <td>75,000 to 99,999</td>\n",
       "      <td>2</td>\n",
       "    </tr>\n",
       "    <tr>\n",
       "      <th>...</th>\n",
       "      <td>...</td>\n",
       "      <td>...</td>\n",
       "      <td>...</td>\n",
       "      <td>...</td>\n",
       "      <td>...</td>\n",
       "      <td>...</td>\n",
       "      <td>...</td>\n",
       "      <td>...</td>\n",
       "      <td>...</td>\n",
       "      <td>...</td>\n",
       "      <td>...</td>\n",
       "      <td>...</td>\n",
       "      <td>...</td>\n",
       "      <td>...</td>\n",
       "      <td>...</td>\n",
       "      <td>...</td>\n",
       "      <td>...</td>\n",
       "      <td>...</td>\n",
       "      <td>...</td>\n",
       "      <td>...</td>\n",
       "      <td>...</td>\n",
       "    </tr>\n",
       "    <tr>\n",
       "      <th>16144</th>\n",
       "      <td>16144</td>\n",
       "      <td>15-24</td>\n",
       "      <td>Female</td>\n",
       "      <td>Single, never married</td>\n",
       "      <td>2</td>\n",
       "      <td>no</td>\n",
       "      <td>Living with more than one parent</td>\n",
       "      <td>no</td>\n",
       "      <td>Ontario</td>\n",
       "      <td>yes</td>\n",
       "      <td>...</td>\n",
       "      <td>-1</td>\n",
       "      <td>-1.0</td>\n",
       "      <td>yes</td>\n",
       "      <td>a full-time student</td>\n",
       "      <td>Graduated from High school</td>\n",
       "      <td>Not in labour force</td>\n",
       "      <td>Valid skip</td>\n",
       "      <td>Less than 25,000</td>\n",
       "      <td>Less than 25,000</td>\n",
       "      <td>2</td>\n",
       "    </tr>\n",
       "    <tr>\n",
       "      <th>16145</th>\n",
       "      <td>16145</td>\n",
       "      <td>15-24</td>\n",
       "      <td>Male</td>\n",
       "      <td>Single, never married</td>\n",
       "      <td>4</td>\n",
       "      <td>no</td>\n",
       "      <td>Living with more than one parent</td>\n",
       "      <td>no</td>\n",
       "      <td>British Columbia</td>\n",
       "      <td>no</td>\n",
       "      <td>...</td>\n",
       "      <td>-1</td>\n",
       "      <td>-1.0</td>\n",
       "      <td>yes</td>\n",
       "      <td>a full-time student</td>\n",
       "      <td>Graduated from High school</td>\n",
       "      <td>Employed</td>\n",
       "      <td>Employee</td>\n",
       "      <td>Less than 25,000</td>\n",
       "      <td>125,000 and more</td>\n",
       "      <td>2</td>\n",
       "    </tr>\n",
       "    <tr>\n",
       "      <th>16146</th>\n",
       "      <td>16146</td>\n",
       "      <td>15-24</td>\n",
       "      <td>Female</td>\n",
       "      <td>Single, never married</td>\n",
       "      <td>5</td>\n",
       "      <td>no</td>\n",
       "      <td>Living with more than one parent</td>\n",
       "      <td>no</td>\n",
       "      <td>Quebec</td>\n",
       "      <td>yes</td>\n",
       "      <td>...</td>\n",
       "      <td>-1</td>\n",
       "      <td>-1.0</td>\n",
       "      <td>yes</td>\n",
       "      <td>a full-time student</td>\n",
       "      <td>Less than High School</td>\n",
       "      <td>Employed</td>\n",
       "      <td>Employee</td>\n",
       "      <td>Less than 25,000</td>\n",
       "      <td>25,000 to 49,999</td>\n",
       "      <td>2</td>\n",
       "    </tr>\n",
       "    <tr>\n",
       "      <th>16147</th>\n",
       "      <td>16147</td>\n",
       "      <td>15-24</td>\n",
       "      <td>Female</td>\n",
       "      <td>Single, never married</td>\n",
       "      <td>3</td>\n",
       "      <td>no</td>\n",
       "      <td>Living with more than one parent</td>\n",
       "      <td>no</td>\n",
       "      <td>Newfoundland and Labrador</td>\n",
       "      <td>no</td>\n",
       "      <td>...</td>\n",
       "      <td>-1</td>\n",
       "      <td>-1.0</td>\n",
       "      <td>yes</td>\n",
       "      <td>a full-time student</td>\n",
       "      <td>Graduated from High school</td>\n",
       "      <td>Employed</td>\n",
       "      <td>Employee</td>\n",
       "      <td>Less than 25,000</td>\n",
       "      <td>75,000 to 99,999</td>\n",
       "      <td>2</td>\n",
       "    </tr>\n",
       "    <tr>\n",
       "      <th>16148</th>\n",
       "      <td>16148</td>\n",
       "      <td>15-24</td>\n",
       "      <td>Female</td>\n",
       "      <td>Single, never married</td>\n",
       "      <td>4</td>\n",
       "      <td>no</td>\n",
       "      <td>Living with more than one parent</td>\n",
       "      <td>no</td>\n",
       "      <td>Manitoba</td>\n",
       "      <td>yes</td>\n",
       "      <td>...</td>\n",
       "      <td>-1</td>\n",
       "      <td>-1.0</td>\n",
       "      <td>no</td>\n",
       "      <td>Valid skip</td>\n",
       "      <td>Post-secondary diploma</td>\n",
       "      <td>Employed</td>\n",
       "      <td>Employee</td>\n",
       "      <td>Less than 25,000</td>\n",
       "      <td>100,000 to 124,999</td>\n",
       "      <td>2</td>\n",
       "    </tr>\n",
       "  </tbody>\n",
       "</table>\n",
       "<p>3995 rows × 121 columns</p>\n",
       "</div>"
      ],
      "text/plain": [
       "       Unnamed: 0 Age_group  Gender         Martial_status Household_size  \\\n",
       "17             17       75+    Male                Married              2   \n",
       "22             22       75+    Male                Married              2   \n",
       "29             29     65-74    Male                Married              3   \n",
       "34             34       75+  Female                Married              2   \n",
       "38             38     65-74    Male                Married              3   \n",
       "...           ...       ...     ...                    ...            ...   \n",
       "16144       16144     15-24  Female  Single, never married              2   \n",
       "16145       16145     15-24    Male  Single, never married              4   \n",
       "16146       16146     15-24  Female  Single, never married              5   \n",
       "16147       16147     15-24  Female  Single, never married              3   \n",
       "16148       16148     15-24  Female  Single, never married              4   \n",
       "\n",
       "      Children                Living_arrangement Three_generation_or_more  \\\n",
       "17          no  Living with more than one parent                       no   \n",
       "22          no  Living with more than one parent                       no   \n",
       "29         yes           Not living with parents                       no   \n",
       "34          no  Living with more than one parent                       no   \n",
       "38         yes           Not living with parents                       no   \n",
       "...        ...                               ...                      ...   \n",
       "16144       no  Living with more than one parent                       no   \n",
       "16145       no  Living with more than one parent                       no   \n",
       "16146       no  Living with more than one parent                       no   \n",
       "16147       no  Living with more than one parent                       no   \n",
       "16148       no  Living with more than one parent                       no   \n",
       "\n",
       "                        Province Volunteer  ...  \\\n",
       "17                      Manitoba        no  ...   \n",
       "22                        Quebec        no  ...   \n",
       "29                       Alberta        no  ...   \n",
       "34                       Ontario        no  ...   \n",
       "38     Newfoundland and Labrador        no  ...   \n",
       "...                          ...       ...  ...   \n",
       "16144                    Ontario       yes  ...   \n",
       "16145           British Columbia        no  ...   \n",
       "16146                     Quebec       yes  ...   \n",
       "16147  Newfoundland and Labrador        no  ...   \n",
       "16148                   Manitoba       yes  ...   \n",
       "\n",
       "      Amount_of_donations_Category_business_and_professional  \\\n",
       "17                                                    -1       \n",
       "22                                                    -1       \n",
       "29                                                    -1       \n",
       "34                                                    -1       \n",
       "38                                                    -1       \n",
       "...                                                  ...       \n",
       "16144                                                 -1       \n",
       "16145                                                 -1       \n",
       "16146                                                 -1       \n",
       "16147                                                 -1       \n",
       "16148                                                 -1       \n",
       "\n",
       "      Amount_of_donations_Category_not_elsewhere_classified  \\\n",
       "17                                                  -1.0      \n",
       "22                                                  -1.0      \n",
       "29                                                  -1.0      \n",
       "34                                                  -1.0      \n",
       "38                                                  -1.0      \n",
       "...                                                  ...      \n",
       "16144                                               -1.0      \n",
       "16145                                               -1.0      \n",
       "16146                                               -1.0      \n",
       "16147                                               -1.0      \n",
       "16148                                               -1.0      \n",
       "\n",
       "       Education_Attending_School Education_Enrollment_status  \\\n",
       "17                             no                  Valid skip   \n",
       "22                             no                  Valid skip   \n",
       "29                             no                  Valid skip   \n",
       "34                             no                  Valid skip   \n",
       "38                             no                  Valid skip   \n",
       "...                           ...                         ...   \n",
       "16144                         yes         a full-time student   \n",
       "16145                         yes         a full-time student   \n",
       "16146                         yes         a full-time student   \n",
       "16147                         yes         a full-time student   \n",
       "16148                          no                  Valid skip   \n",
       "\n",
       "         Education_Highest_degree  Labour_force_status  \\\n",
       "17         Post-secondary diploma  Not in labour force   \n",
       "22         Post-secondary diploma  Not in labour force   \n",
       "29          Less than High School  Not in labour force   \n",
       "34          Less than High School             Employed   \n",
       "38         Post-secondary diploma  Not in labour force   \n",
       "...                           ...                  ...   \n",
       "16144  Graduated from High school  Not in labour force   \n",
       "16145  Graduated from High school             Employed   \n",
       "16146       Less than High School             Employed   \n",
       "16147  Graduated from High school             Employed   \n",
       "16148      Post-secondary diploma             Employed   \n",
       "\n",
       "       Employment_Employee_or_self_employed  Personal_income_group_before_tax  \\\n",
       "17                               Valid skip                  Less than 25,000   \n",
       "22                               Valid skip                  Less than 25,000   \n",
       "29                               Valid skip                  25,000 to 49,999   \n",
       "34                            Self-employed                  Less than 25,000   \n",
       "38                               Valid skip                  50,000 to 74,999   \n",
       "...                                     ...                               ...   \n",
       "16144                            Valid skip                  Less than 25,000   \n",
       "16145                              Employee                  Less than 25,000   \n",
       "16146                              Employee                  Less than 25,000   \n",
       "16147                              Employee                  Less than 25,000   \n",
       "16148                              Employee                  Less than 25,000   \n",
       "\n",
       "       Family_income_group_before_tax  donated  \n",
       "17                   25,000 to 49,999        2  \n",
       "22                   50,000 to 74,999        2  \n",
       "29                   50,000 to 74,999        2  \n",
       "34                   25,000 to 49,999        2  \n",
       "38                   75,000 to 99,999        2  \n",
       "...                               ...      ...  \n",
       "16144                Less than 25,000        2  \n",
       "16145                125,000 and more        2  \n",
       "16146                25,000 to 49,999        2  \n",
       "16147                75,000 to 99,999        2  \n",
       "16148              100,000 to 124,999        2  \n",
       "\n",
       "[3995 rows x 121 columns]"
      ]
     },
     "execution_count": 32,
     "metadata": {},
     "output_type": "execute_result"
    }
   ],
   "source": [
    "df[df['donated']>1]"
   ]
  },
  {
   "cell_type": "code",
   "execution_count": null,
   "id": "d24630bb",
   "metadata": {},
   "outputs": [],
   "source": []
  }
 ],
 "metadata": {
  "kernelspec": {
   "display_name": "Python 3 (ipykernel)",
   "language": "python",
   "name": "python3"
  },
  "language_info": {
   "codemirror_mode": {
    "name": "ipython",
    "version": 3
   },
   "file_extension": ".py",
   "mimetype": "text/x-python",
   "name": "python",
   "nbconvert_exporter": "python",
   "pygments_lexer": "ipython3",
   "version": "3.8.13"
  }
 },
 "nbformat": 4,
 "nbformat_minor": 5
}
